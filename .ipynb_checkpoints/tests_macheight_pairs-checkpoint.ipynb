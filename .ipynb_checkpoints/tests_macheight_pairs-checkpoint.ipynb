{
 "cells": [
  {
   "cell_type": "code",
   "execution_count": 224,
   "metadata": {},
   "outputs": [],
   "source": [
    "import requests\n",
    "import json\n",
    "import itertools\n",
    "\n",
    "url = 'https://mach-eight.uc.r.appspot.com/'\n",
    "\n",
    "response = requests.get(url).json()\n",
    "\n",
    "\n",
    "\n",
    "class Player:\n",
    "    \n",
    "    def __init__(self, dict):\n",
    "        self.name = dict['last_name']+ ', ' + dict['first_name']\n",
    "        self.height = int(dict['h_in'])\n",
    "    \n",
    "\n",
    "\n",
    "def pairs(arr, sum):\n",
    "    \n",
    "    \n",
    "    # Creates the dict with heights as keys and name of players with that height as values\n",
    "    \n",
    "    players_dict = {}\n",
    "    \n",
    "    for ele in arr:\n",
    "        \n",
    "        player = Player(ele)\n",
    "        \n",
    "        if player.height not in players_dict.keys():\n",
    "        \n",
    "            players_dict[player.height] = []\n",
    "            players_dict[player.height].append(player.name)\n",
    "        \n",
    "        else:\n",
    "            \n",
    "            players_dict[player.height].append(player.name)\n",
    "    \n",
    "    \n",
    "    # Iterates the dict and creates lists with added heights that sum the desired value in the same list index\n",
    "    # as sublists\n",
    "\n",
    "    \n",
    "    players_list_one = []\n",
    "    players_list_two = []\n",
    "    \n",
    "    for ele in players_dict.keys():\n",
    "        \n",
    "        target = sum - ele\n",
    "        \n",
    "        if target in players_dict.keys() and target <= sum/2 :\n",
    "            \n",
    "            players_list_one.append(players_dict[ele])\n",
    "            \n",
    "            players_list_two.append(players_dict[target])\n",
    "    \n",
    "    \n",
    "    \n",
    "    # Cross product of each sublist element of both players list\n",
    "    \n",
    "    \n",
    "    result_list = []\n",
    "    i = 0\n",
    "    \n",
    "    while i <= len(players_list_one)-1 :\n",
    "        \n",
    "        result_list += itertools.product(players_list_one[i],players_list_two[i])\n",
    "        \n",
    "        i += 1\n",
    "        \n",
    "    \n",
    "    \n",
    "    # Checks for duplicates\n",
    "    \n",
    "    for ele in result_list:\n",
    "        if ele[0] == ele[1]:\n",
    "            result_list.remove(ele)\n",
    "    \n",
    "    \n",
    "    \n",
    "    # Returns cleaned matches list\n",
    "    \n",
    "        \n",
    "    return result_list\n"
   ]
  },
  {
   "cell_type": "code",
   "execution_count": 226,
   "metadata": {},
   "outputs": [
    {
     "data": {
      "text/plain": [
       "4"
      ]
     },
     "execution_count": 226,
     "metadata": {},
     "output_type": "execute_result"
    }
   ],
   "source": [
    "len(pairs(response['values'], 140))"
   ]
  },
  {
   "cell_type": "code",
   "execution_count": 227,
   "metadata": {},
   "outputs": [
    {
     "data": {
      "text/plain": [
       "[('Atkins, Chucky', 'Robinson, Nate'),\n",
       " ('Claxton, Speedy', 'Robinson, Nate'),\n",
       " ('Knight, Brevin', 'Wilks, Mike'),\n",
       " ('Wilks, Mike', 'Knight, Brevin')]"
      ]
     },
     "execution_count": 227,
     "metadata": {},
     "output_type": "execute_result"
    }
   ],
   "source": [
    "pairs(response['values'], 140)"
   ]
  },
  {
   "cell_type": "code",
   "execution_count": null,
   "metadata": {},
   "outputs": [],
   "source": []
  }
 ],
 "metadata": {
  "kernelspec": {
   "display_name": "Python 3",
   "language": "python",
   "name": "python3"
  },
  "language_info": {
   "codemirror_mode": {
    "name": "ipython",
    "version": 3
   },
   "file_extension": ".py",
   "mimetype": "text/x-python",
   "name": "python",
   "nbconvert_exporter": "python",
   "pygments_lexer": "ipython3",
   "version": "3.8.6"
  }
 },
 "nbformat": 4,
 "nbformat_minor": 4
}
